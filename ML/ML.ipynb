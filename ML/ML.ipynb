{
 "cells": [
  {
   "cell_type": "code",
   "execution_count": 2,
   "id": "b7db9058-6736-422e-b07a-19bdb8768a13",
   "metadata": {},
   "outputs": [
    {
     "name": "stderr",
     "output_type": "stream",
     "text": [
      "2024-12-04 17:07:10.797059: I tensorflow/tsl/cuda/cudart_stub.cc:28] Could not find cuda drivers on your machine, GPU will not be used.\n",
      "2024-12-04 17:07:10.891478: I tensorflow/tsl/cuda/cudart_stub.cc:28] Could not find cuda drivers on your machine, GPU will not be used.\n",
      "2024-12-04 17:07:10.892371: I tensorflow/core/platform/cpu_feature_guard.cc:182] This TensorFlow binary is optimized to use available CPU instructions in performance-critical operations.\n",
      "To enable the following instructions: AVX2 FMA, in other operations, rebuild TensorFlow with the appropriate compiler flags.\n",
      "2024-12-04 17:07:11.595543: W tensorflow/compiler/tf2tensorrt/utils/py_utils.cc:38] TF-TRT Warning: Could not find TensorRT\n"
     ]
    }
   ],
   "source": [
    "import pandas as pd\n",
    "import numpy as np\n",
    "import tensorflow as tf\n",
    "import joblib\n",
    "from sklearn.model_selection import train_test_split \n",
    "from sklearn.metrics import classification_report \n",
    "from sklearn.metrics import accuracy_score, recall_score, precision_score, f1_score, roc_auc_score, confusion_matrix\n",
    "from sklearn.preprocessing import MinMaxScaler, StandardScaler\n",
    "from tensorflow.keras.models import Sequential\n",
    "from tensorflow.keras.layers import Conv1D, MaxPooling1D, Flatten, Dense, Input, Concatenate, Dot, Softmax, Dropout, Reshape"
   ]
  },
  {
   "cell_type": "markdown",
   "id": "3f3a9337-1338-489f-9b3c-fc0806b0d6a2",
   "metadata": {
    "jp-MarkdownHeadingCollapsed": true
   },
   "source": [
    "# CNN (Train)"
   ]
  },
  {
   "cell_type": "code",
   "execution_count": 4,
   "id": "1576496f-3f2d-4bf6-acf2-d25bb0cbcfc0",
   "metadata": {},
   "outputs": [
    {
     "name": "stdout",
     "output_type": "stream",
     "text": [
      "(242889, 95) (242889,)\n"
     ]
    }
   ],
   "source": [
    "#Load training and test data\n",
    "D_train=pd.read_csv('./Dataset_measure_train.csv', encoding='utf-8', delimiter=',')\n",
    "\n",
    "L_train=D_train['Class']\n",
    "D_train=D_train.drop('Class', axis=1)\n",
    "\n",
    "print(D_train.shape, L_train.shape)"
   ]
  },
  {
   "cell_type": "code",
   "execution_count": 5,
   "id": "bca7c34c-0a8c-4233-a96c-6646c275cb8e",
   "metadata": {
    "scrolled": true
   },
   "outputs": [],
   "source": [
    "# Create the model\n",
    "\n",
    "def get_model():\n",
    "    \n",
    "    input_shape = (95, 1)  # 95 for PSD inputs (1000 for IAT) 1 channel (1D)\n",
    "    \n",
    "    model = Sequential()\n",
    "\n",
    "    model.add(Input(shape=input_shape))\n",
    "    model.add(Conv1D(64, kernel_size=4, activation='relu'))\n",
    "    model.add(MaxPooling1D(pool_size=3))\n",
    "    model.add(Dropout(0.2))\n",
    "    model.add(Conv1D(32, kernel_size=2, activation='relu'))\n",
    "    model.add(MaxPooling1D(pool_size=2))\n",
    "    model.add(Dropout(0.2))\n",
    "    model.add(Conv1D(16, kernel_size=3, activation='relu'))\n",
    "    model.add(MaxPooling1D(pool_size=2))\n",
    "\n",
    "    model.add(Flatten()) \n",
    "\n",
    "    model.add(Dense(64, activation='relu'))\n",
    "    model.add(Dropout(0.2))\n",
    "    model.add(Dense(16, activation='relu'))\n",
    "    model.add(Dropout(0.2))\n",
    "    model.add(Dense(8, activation='relu'))\n",
    "    model.add(Dense(1, activation='sigmoid'))  # Output layer for binary classification\n",
    "    \n",
    "    optimizer = tf.keras.optimizers.RMSprop(learning_rate=0.001, rho=0.9)\n",
    "    model.compile(optimizer=\"adam\", loss='binary_crossentropy', metrics=['accuracy'])\n",
    "    \n",
    "    return model\n"
   ]
  },
  {
   "cell_type": "code",
   "execution_count": 6,
   "id": "88a20475-38c8-4191-a09e-6e497dad9596",
   "metadata": {
    "scrolled": true
   },
   "outputs": [
    {
     "name": "stdout",
     "output_type": "stream",
     "text": [
      "Epoch 1/40\n",
      "475/475 [==============================] - 4s 8ms/step - loss: 0.2261 - accuracy: 0.9682\n",
      "Epoch 2/40\n",
      "475/475 [==============================] - 4s 7ms/step - loss: 0.0760 - accuracy: 0.9860\n",
      "Epoch 3/40\n",
      "475/475 [==============================] - 3s 7ms/step - loss: 0.0665 - accuracy: 0.9883\n",
      "Epoch 4/40\n",
      "475/475 [==============================] - 3s 7ms/step - loss: 0.0659 - accuracy: 0.9892\n",
      "Epoch 5/40\n",
      "475/475 [==============================] - 3s 7ms/step - loss: 0.0554 - accuracy: 0.9901\n",
      "Epoch 6/40\n",
      "475/475 [==============================] - 3s 7ms/step - loss: 0.0539 - accuracy: 0.9911\n",
      "Epoch 7/40\n",
      "475/475 [==============================] - 3s 7ms/step - loss: 0.0460 - accuracy: 0.9914\n",
      "Epoch 8/40\n",
      "475/475 [==============================] - 3s 7ms/step - loss: 0.0453 - accuracy: 0.9915\n",
      "Epoch 9/40\n",
      "475/475 [==============================] - 3s 7ms/step - loss: 0.0407 - accuracy: 0.9923\n",
      "Epoch 10/40\n",
      "475/475 [==============================] - 3s 7ms/step - loss: 0.0380 - accuracy: 0.9924\n",
      "Epoch 11/40\n",
      "475/475 [==============================] - 3s 7ms/step - loss: 0.0367 - accuracy: 0.9926\n",
      "Epoch 12/40\n",
      "475/475 [==============================] - 3s 7ms/step - loss: 0.0347 - accuracy: 0.9929\n",
      "Epoch 13/40\n",
      "475/475 [==============================] - 3s 7ms/step - loss: 0.0400 - accuracy: 0.9927\n",
      "Epoch 14/40\n",
      "475/475 [==============================] - 3s 7ms/step - loss: 0.0324 - accuracy: 0.9930\n",
      "Epoch 15/40\n",
      "475/475 [==============================] - 3s 7ms/step - loss: 0.0332 - accuracy: 0.9931\n",
      "Epoch 16/40\n",
      "475/475 [==============================] - 3s 7ms/step - loss: 0.0312 - accuracy: 0.9933\n",
      "Epoch 17/40\n",
      "475/475 [==============================] - 3s 7ms/step - loss: 0.0307 - accuracy: 0.9933\n",
      "Epoch 18/40\n",
      "475/475 [==============================] - 3s 7ms/step - loss: 0.0288 - accuracy: 0.9935\n",
      "Epoch 19/40\n",
      "475/475 [==============================] - 3s 7ms/step - loss: 0.0294 - accuracy: 0.9935\n",
      "Epoch 20/40\n",
      "475/475 [==============================] - 3s 7ms/step - loss: 0.0279 - accuracy: 0.9937\n",
      "Epoch 21/40\n",
      "475/475 [==============================] - 3s 7ms/step - loss: 0.0262 - accuracy: 0.9939\n",
      "Epoch 22/40\n",
      "475/475 [==============================] - 3s 7ms/step - loss: 0.0262 - accuracy: 0.9940\n",
      "Epoch 23/40\n",
      "475/475 [==============================] - 3s 7ms/step - loss: 0.0266 - accuracy: 0.9939\n",
      "Epoch 24/40\n",
      "475/475 [==============================] - 3s 7ms/step - loss: 0.0255 - accuracy: 0.9941\n",
      "Epoch 25/40\n",
      "475/475 [==============================] - 3s 7ms/step - loss: 0.0243 - accuracy: 0.9942\n",
      "Epoch 26/40\n",
      "475/475 [==============================] - 3s 7ms/step - loss: 0.0240 - accuracy: 0.9942\n",
      "Epoch 27/40\n",
      "475/475 [==============================] - 3s 7ms/step - loss: 0.0282 - accuracy: 0.9940\n",
      "Epoch 28/40\n",
      "475/475 [==============================] - 3s 7ms/step - loss: 0.0252 - accuracy: 0.9944\n",
      "Epoch 29/40\n",
      "475/475 [==============================] - 3s 7ms/step - loss: 0.0274 - accuracy: 0.9939\n",
      "Epoch 30/40\n",
      "475/475 [==============================] - 3s 7ms/step - loss: 0.0254 - accuracy: 0.9941\n",
      "Epoch 31/40\n",
      "475/475 [==============================] - 3s 7ms/step - loss: 0.0258 - accuracy: 0.9945\n",
      "Epoch 32/40\n",
      "475/475 [==============================] - 3s 7ms/step - loss: 0.0253 - accuracy: 0.9941\n",
      "Epoch 33/40\n",
      "475/475 [==============================] - 3s 7ms/step - loss: 0.0228 - accuracy: 0.9945\n",
      "Epoch 34/40\n",
      "475/475 [==============================] - 3s 7ms/step - loss: 0.0226 - accuracy: 0.9946\n",
      "Epoch 35/40\n",
      "475/475 [==============================] - 3s 7ms/step - loss: 0.0219 - accuracy: 0.9947\n",
      "Epoch 36/40\n",
      "475/475 [==============================] - 3s 7ms/step - loss: 0.0231 - accuracy: 0.9946\n",
      "Epoch 37/40\n",
      "475/475 [==============================] - 3s 7ms/step - loss: 0.0224 - accuracy: 0.9946\n",
      "Epoch 38/40\n",
      "475/475 [==============================] - 3s 7ms/step - loss: 0.0213 - accuracy: 0.9948\n",
      "Epoch 39/40\n",
      "475/475 [==============================] - 3s 7ms/step - loss: 0.0214 - accuracy: 0.9948\n",
      "Epoch 40/40\n",
      "475/475 [==============================] - 3s 7ms/step - loss: 0.0304 - accuracy: 0.9947\n",
      "Epoch 1/20\n",
      "1898/1898 [==============================] - 10s 5ms/step - loss: 0.0243 - accuracy: 0.9944\n",
      "Epoch 2/20\n",
      "1898/1898 [==============================] - 10s 5ms/step - loss: 0.0257 - accuracy: 0.9944\n",
      "Epoch 3/20\n",
      "1898/1898 [==============================] - 11s 6ms/step - loss: 0.0286 - accuracy: 0.9944\n",
      "Epoch 4/20\n",
      "1898/1898 [==============================] - 11s 6ms/step - loss: 0.0258 - accuracy: 0.9942\n",
      "Epoch 5/20\n",
      "1898/1898 [==============================] - 11s 6ms/step - loss: 0.0250 - accuracy: 0.9943\n",
      "Epoch 6/20\n",
      "1898/1898 [==============================] - 11s 6ms/step - loss: 0.0228 - accuracy: 0.9946\n",
      "Epoch 7/20\n",
      "1898/1898 [==============================] - 11s 6ms/step - loss: 0.0223 - accuracy: 0.9946\n",
      "Epoch 8/20\n",
      "1898/1898 [==============================] - 11s 6ms/step - loss: 0.0547 - accuracy: 0.9946\n",
      "Epoch 9/20\n",
      "1898/1898 [==============================] - 11s 6ms/step - loss: 0.0216 - accuracy: 0.9948\n",
      "Epoch 10/20\n",
      "1898/1898 [==============================] - 11s 6ms/step - loss: 0.0227 - accuracy: 0.9948\n",
      "Epoch 11/20\n",
      "1898/1898 [==============================] - 11s 6ms/step - loss: 0.0246 - accuracy: 0.9948\n",
      "Epoch 12/20\n",
      "1898/1898 [==============================] - 11s 6ms/step - loss: 0.0212 - accuracy: 0.9948\n",
      "Epoch 13/20\n",
      "1898/1898 [==============================] - 11s 6ms/step - loss: 0.0216 - accuracy: 0.9948\n",
      "Epoch 14/20\n",
      "1898/1898 [==============================] - 11s 6ms/step - loss: 0.0282 - accuracy: 0.9945\n",
      "Epoch 15/20\n",
      "1898/1898 [==============================] - 11s 6ms/step - loss: 0.0215 - accuracy: 0.9950\n",
      "Epoch 16/20\n",
      "1898/1898 [==============================] - 11s 6ms/step - loss: 0.0206 - accuracy: 0.9950\n",
      "Epoch 17/20\n",
      "1898/1898 [==============================] - 11s 6ms/step - loss: 0.0227 - accuracy: 0.9950\n",
      "Epoch 18/20\n",
      "1898/1898 [==============================] - 11s 6ms/step - loss: 0.0345 - accuracy: 0.9950\n",
      "Epoch 19/20\n",
      "1898/1898 [==============================] - 11s 6ms/step - loss: 0.0210 - accuracy: 0.9950\n",
      "Epoch 20/20\n",
      "1898/1898 [==============================] - 11s 6ms/step - loss: 0.0212 - accuracy: 0.9952\n"
     ]
    },
    {
     "data": {
      "text/plain": [
       "['model.joblib']"
      ]
     },
     "execution_count": 6,
     "metadata": {},
     "output_type": "execute_result"
    }
   ],
   "source": [
    "model = get_model()\n",
    "model.fit(D_train, L_train, epochs=40, verbose=1, batch_size=512, class_weight={0: 1, 1: 2})\n",
    "model.fit(D_train, L_train, epochs=20, verbose=1, batch_size=128, class_weight={0: 1, 1: 2})\n",
    "joblib.dump(model, f'model.joblib')"
   ]
  },
  {
   "cell_type": "markdown",
   "id": "1880c13c-4a3f-4afb-affb-15b9b126bc6e",
   "metadata": {
    "jp-MarkdownHeadingCollapsed": true
   },
   "source": [
    "# CNN (Test)"
   ]
  },
  {
   "cell_type": "code",
   "execution_count": 11,
   "id": "44d29127-a877-47b8-b296-6a12f2fd667a",
   "metadata": {},
   "outputs": [
    {
     "name": "stdout",
     "output_type": "stream",
     "text": [
      "7591/7591 [==============================] - 7s 967us/step\n",
      "####### Evaluation #######\n",
      "AUC: 0.9722392268145361\n",
      "Accuracy: 0.9888796940166084\n",
      "Recall: 0.7398798641943066\n",
      "Precision: 0.8887843137254902\n",
      "F1 Score: 0.807525119361505\n",
      "FPR: 0.0030140585211983115\n",
      "FNR: 0.2601201358056934\n"
     ]
    }
   ],
   "source": [
    "##Read test data\n",
    "\n",
    "D_test=pd.read_csv('./Dataset_measure_sf_decode.csv', encoding='utf-8', delimiter=',')\n",
    "\n",
    "L_test=D_test['Class']\n",
    "D_test=D_test.drop('Class', axis=1)\n",
    "\n",
    "\n",
    "model = joblib.load('./models_DDoS/model.joblib')\n",
    "\n",
    "y_pred = model.predict(D_test)\n",
    "y_pred_binary = (y_pred > 0.5).astype(int)\n",
    "\n",
    "print(\"####### Evaluation #######\")\n",
    "\n",
    "y_pred_=y_pred_binary\n",
    "accuracy = accuracy_score(L_test, y_pred_)\n",
    "recall = recall_score(L_test, y_pred_)\n",
    "precision = precision_score(L_test, y_pred_)\n",
    "f1 = f1_score(L_test, y_pred_)\n",
    "auc = roc_auc_score(L_test, y_pred)\n",
    "\n",
    "tn, fp, fn, tp = confusion_matrix(L_test, y_pred_).ravel()\n",
    "fpr = fp / (fp + tn)\n",
    "fnr = fn / (fn + tp)\n",
    "\n",
    "print(\"AUC:\", auc)\n",
    "print(\"Accuracy:\", accuracy)\n",
    "print(\"Recall:\", recall)\n",
    "print(\"Precision:\", precision)\n",
    "print(\"F1 Score:\", f1)\n",
    "print(\"FPR:\", fpr)\n",
    "print(\"FNR:\", fnr)"
   ]
  },
  {
   "cell_type": "code",
   "execution_count": null,
   "id": "8105b734-9ff3-4135-a29a-1e9a03ccd980",
   "metadata": {},
   "outputs": [],
   "source": []
  }
 ],
 "metadata": {
  "kernelspec": {
   "display_name": "Python My Env",
   "language": "python",
   "name": "python-my-env"
  },
  "language_info": {
   "codemirror_mode": {
    "name": "ipython",
    "version": 3
   },
   "file_extension": ".py",
   "mimetype": "text/x-python",
   "name": "python",
   "nbconvert_exporter": "python",
   "pygments_lexer": "ipython3",
   "version": "3.10.13"
  }
 },
 "nbformat": 4,
 "nbformat_minor": 5
}
